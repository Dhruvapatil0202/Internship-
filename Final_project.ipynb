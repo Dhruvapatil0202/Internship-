{
  "nbformat": 4,
  "nbformat_minor": 0,
  "metadata": {
    "colab": {
      "provenance": []
    },
    "kernelspec": {
      "name": "python3",
      "display_name": "Python 3"
    },
    "language_info": {
      "name": "python"
    }
  },
  "cells": [
    {
      "cell_type": "code",
      "execution_count": null,
      "metadata": {
        "id": "pydctaYlRJc0"
      },
      "outputs": [],
      "source": [
        "# importing the necessory library\n",
        "import pandas as pd"
      ]
    },
    {
      "cell_type": "code",
      "source": [
        "# importing data\n",
        "dis = pd.read_csv('https://github.com/ybifoundation/Dataset/raw/main/MultipleDiseasePrediction.csv')"
      ],
      "metadata": {
        "id": "PKG5EVKwRi0J"
      },
      "execution_count": null,
      "outputs": []
    },
    {
      "cell_type": "code",
      "source": [
        "# viewing data\n",
        "dis.head()"
      ],
      "metadata": {
        "id": "emUu_Q4OSLch"
      },
      "execution_count": null,
      "outputs": []
    },
    {
      "cell_type": "code",
      "source": [
        "# info of data\n",
        "dis.info(verbose = True)"
      ],
      "metadata": {
        "id": "Uxuc9AArSb09"
      },
      "execution_count": null,
      "outputs": []
    },
    {
      "cell_type": "code",
      "source": [
        "# summary stats\n",
        "dis.describe()"
      ],
      "metadata": {
        "id": "2Ps0PVHaUdQx"
      },
      "execution_count": null,
      "outputs": []
    },
    {
      "cell_type": "code",
      "source": [
        "# finding missing values\n",
        "dis.isna()"
      ],
      "metadata": {
        "id": "tkiEggPvVvay"
      },
      "execution_count": null,
      "outputs": []
    },
    {
      "cell_type": "code",
      "source": [
        "# caragories of available data in each column\n",
        "dis.dtypes"
      ],
      "metadata": {
        "id": "kEONk3eZXIjY"
      },
      "execution_count": null,
      "outputs": []
    },
    {
      "cell_type": "code",
      "source": [
        "# correlation\n",
        "dis.corr()"
      ],
      "metadata": {
        "id": "6jLQqGFFX9vi"
      },
      "execution_count": null,
      "outputs": []
    },
    {
      "cell_type": "code",
      "source": [
        "# columns\n",
        "dis.columns"
      ],
      "metadata": {
        "id": "GdvH7wmMbGXq"
      },
      "execution_count": null,
      "outputs": []
    },
    {
      "cell_type": "code",
      "source": [
        "# difining y\n",
        "y = dis['prognosis']\n",
        "\n",
        "# difnining x\n",
        "x = dis.drop(['prognosis'], axis= 1)"
      ],
      "metadata": {
        "id": "ZiyiJ7DubQgR"
      },
      "execution_count": null,
      "outputs": []
    },
    {
      "cell_type": "code",
      "source": [
        "# train test splitting\n",
        "from sklearn.model_selection import train_test_split\n",
        "x_train, x_test, y_train, y_test = train_test_split(x, y, train_size = 0.75)\n",
        "x_train.shape, x_test.shape, y_train.shape, y_test.shape"
      ],
      "metadata": {
        "id": "mLV7F0-LJr0D"
      },
      "execution_count": null,
      "outputs": []
    },
    {
      "cell_type": "code",
      "source": [
        "# model training\n",
        "from sklearn.ensemble import RandomForestClassifier\n",
        "model = RandomForestClassifier()\n",
        "model.fit(x_train, y_train)\n",
        "y_pred = model.predict(x_test)\n",
        "y_pred.shape"
      ],
      "metadata": {
        "id": "r3S7Yb7JKktL"
      },
      "execution_count": null,
      "outputs": []
    },
    {
      "cell_type": "code",
      "source": [
        "# Accuracy of model\n",
        "from sklearn.metrics import *\n",
        "a, b, c = accuracy_score(y_pred, y_test) , confusion_matrix(y_pred, y_test), classification_report(y_pred, y_test)\n",
        "print(\"Accuracy score:\")\n",
        "print(a)\n",
        "print(\"coufusion matrix:\")\n",
        "print(b)\n",
        "print(\"classification report:\")\n",
        "print(c)"
      ],
      "metadata": {
        "id": "SU3u5VJ8Ljrl"
      },
      "execution_count": null,
      "outputs": []
    },
    {
      "cell_type": "code",
      "source": [
        "# furure predictions\n",
        "future_cases = dis.sample(frac = 0.50)\n",
        "x_new = future_cases.drop(['prognosis'], axis = 1)\n",
        "x_new.columns\n",
        "y_newpred = model.predict(x_new)"
      ],
      "metadata": {
        "id": "76yjTFhaR2wY"
      },
      "execution_count": null,
      "outputs": []
    }
  ]
}